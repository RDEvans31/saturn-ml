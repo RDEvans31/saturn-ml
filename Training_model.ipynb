{
 "cells": [
  {
   "cell_type": "code",
   "execution_count": 5,
   "id": "7dedd644-2470-4a5a-903d-fa2a3877e274",
   "metadata": {
    "tags": []
   },
   "outputs": [],
   "source": [
    "import pickle\n",
    "with open('train_test_val_split.pkl', 'rb') as f:\n",
    "    # The protocol version used is detected automatically, so we do not\n",
    "    # have to specify it.\n",
    "    data = pickle.load(f)\n",
    "x_train, y_train = data[0]\n",
    "x_test, y_test = data[1]\n",
    "x_val, y_val = data[2]"
   ]
  },
  {
   "cell_type": "code",
   "execution_count": 12,
   "id": "3a32e3f5-566d-48ad-add0-2fc23f750f2d",
   "metadata": {},
   "outputs": [
    {
     "name": "stdout",
     "output_type": "stream",
     "text": [
      "Epoch 1/50\n",
      "156/156 [==============================] - 5s 14ms/step - loss: 34.2363 - tp: 2550.0000 - fp: 1034.0000 - tn: 404.0000 - fn: 1000.0000 - accuracy: 0.5922 - precision: 0.7115 - recall: 0.7183 - auc: 0.4973 - prc: 0.7099 - val_loss: 0.7013 - val_tp: 0.0000e+00 - val_fp: 0.0000e+00 - val_tn: 678.0000 - val_fn: 1816.0000 - val_accuracy: 0.2719 - val_precision: 0.0000e+00 - val_recall: 0.0000e+00 - val_auc: 0.5000 - val_prc: 0.7281\n",
      "Epoch 2/50\n",
      "156/156 [==============================] - 1s 8ms/step - loss: 34.2371 - tp: 2764.0000 - fp: 1140.0000 - tn: 298.0000 - fn: 786.0000 - accuracy: 0.6139 - precision: 0.7080 - recall: 0.7786 - auc: 0.4879 - prc: 0.7007 - val_loss: 0.7027 - val_tp: 0.0000e+00 - val_fp: 0.0000e+00 - val_tn: 678.0000 - val_fn: 1816.0000 - val_accuracy: 0.2719 - val_precision: 0.0000e+00 - val_recall: 0.0000e+00 - val_auc: 0.5000 - val_prc: 0.7281\n",
      "Epoch 3/50\n",
      "156/156 [==============================] - 1s 8ms/step - loss: 34.2292 - tp: 2771.0000 - fp: 1129.0000 - tn: 309.0000 - fn: 779.0000 - accuracy: 0.6175 - precision: 0.7105 - recall: 0.7806 - auc: 0.4909 - prc: 0.7049 - val_loss: 0.6952 - val_tp: 0.0000e+00 - val_fp: 0.0000e+00 - val_tn: 678.0000 - val_fn: 1816.0000 - val_accuracy: 0.2719 - val_precision: 0.0000e+00 - val_recall: 0.0000e+00 - val_auc: 0.5000 - val_prc: 0.7281\n",
      "Epoch 4/50\n",
      "156/156 [==============================] - 1s 8ms/step - loss: 34.2357 - tp: 2770.0000 - fp: 1130.0000 - tn: 308.0000 - fn: 780.0000 - accuracy: 0.6171 - precision: 0.7103 - recall: 0.7803 - auc: 0.4826 - prc: 0.7005 - val_loss: 0.6855 - val_tp: 1816.0000 - val_fp: 678.0000 - val_tn: 0.0000e+00 - val_fn: 0.0000e+00 - val_accuracy: 0.7281 - val_precision: 0.7281 - val_recall: 1.0000 - val_auc: 0.5000 - val_prc: 0.7281\n",
      "Epoch 5/50\n",
      "156/156 [==============================] - 1s 7ms/step - loss: 34.2117 - tp: 2761.0000 - fp: 1139.0000 - tn: 299.0000 - fn: 789.0000 - accuracy: 0.6135 - precision: 0.7079 - recall: 0.7777 - auc: 0.4945 - prc: 0.7075 - val_loss: 0.6923 - val_tp: 1816.0000 - val_fp: 678.0000 - val_tn: 0.0000e+00 - val_fn: 0.0000e+00 - val_accuracy: 0.7281 - val_precision: 0.7281 - val_recall: 1.0000 - val_auc: 0.5000 - val_prc: 0.7281\n",
      "Epoch 6/50\n",
      "156/156 [==============================] - 1s 8ms/step - loss: 34.1946 - tp: 2293.0000 - fp: 935.0000 - tn: 503.0000 - fn: 1257.0000 - accuracy: 0.5605 - precision: 0.7103 - recall: 0.6459 - auc: 0.5040 - prc: 0.7122 - val_loss: 0.6720 - val_tp: 1816.0000 - val_fp: 678.0000 - val_tn: 0.0000e+00 - val_fn: 0.0000e+00 - val_accuracy: 0.7281 - val_precision: 0.7281 - val_recall: 1.0000 - val_auc: 0.5000 - val_prc: 0.7281\n",
      "Epoch 7/50\n",
      "156/156 [==============================] - 1s 9ms/step - loss: 34.2253 - tp: 3106.0000 - fp: 1274.0000 - tn: 164.0000 - fn: 444.0000 - accuracy: 0.6556 - precision: 0.7091 - recall: 0.8749 - auc: 0.4835 - prc: 0.7000 - val_loss: 0.6766 - val_tp: 1816.0000 - val_fp: 678.0000 - val_tn: 0.0000e+00 - val_fn: 0.0000e+00 - val_accuracy: 0.7281 - val_precision: 0.7281 - val_recall: 1.0000 - val_auc: 0.5000 - val_prc: 0.7281\n",
      "Epoch 8/50\n",
      "156/156 [==============================] - 1s 8ms/step - loss: 34.1898 - tp: 3021.0000 - fp: 1203.0000 - tn: 235.0000 - fn: 529.0000 - accuracy: 0.6528 - precision: 0.7152 - recall: 0.8510 - auc: 0.5013 - prc: 0.7076 - val_loss: 0.7090 - val_tp: 0.0000e+00 - val_fp: 0.0000e+00 - val_tn: 678.0000 - val_fn: 1816.0000 - val_accuracy: 0.2719 - val_precision: 0.0000e+00 - val_recall: 0.0000e+00 - val_auc: 0.5000 - val_prc: 0.7281\n",
      "Epoch 9/50\n",
      "156/156 [==============================] - 1s 8ms/step - loss: 34.2041 - tp: 2506.0000 - fp: 1042.0000 - tn: 396.0000 - fn: 1044.0000 - accuracy: 0.5818 - precision: 0.7063 - recall: 0.7059 - auc: 0.4959 - prc: 0.7088 - val_loss: 0.6807 - val_tp: 1816.0000 - val_fp: 678.0000 - val_tn: 0.0000e+00 - val_fn: 0.0000e+00 - val_accuracy: 0.7281 - val_precision: 0.7281 - val_recall: 1.0000 - val_auc: 0.5000 - val_prc: 0.7281\n",
      "Epoch 10/50\n",
      "156/156 [==============================] - 1s 7ms/step - loss: 34.2004 - tp: 2600.0000 - fp: 1044.0000 - tn: 394.0000 - fn: 950.0000 - accuracy: 0.6002 - precision: 0.7135 - recall: 0.7324 - auc: 0.5019 - prc: 0.7087 - val_loss: 0.6813 - val_tp: 1816.0000 - val_fp: 678.0000 - val_tn: 0.0000e+00 - val_fn: 0.0000e+00 - val_accuracy: 0.7281 - val_precision: 0.7281 - val_recall: 1.0000 - val_auc: 0.5000 - val_prc: 0.7281\n",
      "Epoch 11/50\n",
      "156/156 [==============================] - 1s 8ms/step - loss: 34.1984 - tp: 2661.0000 - fp: 1079.0000 - tn: 359.0000 - fn: 889.0000 - accuracy: 0.6055 - precision: 0.7115 - recall: 0.7496 - auc: 0.5019 - prc: 0.7146 - val_loss: 0.6682 - val_tp: 1816.0000 - val_fp: 678.0000 - val_tn: 0.0000e+00 - val_fn: 0.0000e+00 - val_accuracy: 0.7281 - val_precision: 0.7281 - val_recall: 1.0000 - val_auc: 0.5000 - val_prc: 0.7281\n",
      "Epoch 12/50\n",
      "156/156 [==============================] - 1s 8ms/step - loss: 34.2050 - tp: 2939.0000 - fp: 1185.0000 - tn: 253.0000 - fn: 611.0000 - accuracy: 0.6399 - precision: 0.7127 - recall: 0.8279 - auc: 0.4931 - prc: 0.7080 - val_loss: 0.6675 - val_tp: 1816.0000 - val_fp: 678.0000 - val_tn: 0.0000e+00 - val_fn: 0.0000e+00 - val_accuracy: 0.7281 - val_precision: 0.7281 - val_recall: 1.0000 - val_auc: 0.5000 - val_prc: 0.7281\n",
      "Epoch 13/50\n",
      "156/156 [==============================] - 1s 8ms/step - loss: 34.2084 - tp: 3197.0000 - fp: 1315.0000 - tn: 123.0000 - fn: 353.0000 - accuracy: 0.6656 - precision: 0.7086 - recall: 0.9006 - auc: 0.4940 - prc: 0.7073 - val_loss: 0.6947 - val_tp: 0.0000e+00 - val_fp: 0.0000e+00 - val_tn: 678.0000 - val_fn: 1816.0000 - val_accuracy: 0.2719 - val_precision: 0.0000e+00 - val_recall: 0.0000e+00 - val_auc: 0.5000 - val_prc: 0.7281\n",
      "Epoch 14/50\n",
      "156/156 [==============================] - 1s 8ms/step - loss: 34.2006 - tp: 2820.0000 - fp: 1144.0000 - tn: 294.0000 - fn: 730.0000 - accuracy: 0.6243 - precision: 0.7114 - recall: 0.7944 - auc: 0.4952 - prc: 0.7063 - val_loss: 0.6993 - val_tp: 0.0000e+00 - val_fp: 0.0000e+00 - val_tn: 678.0000 - val_fn: 1816.0000 - val_accuracy: 0.2719 - val_precision: 0.0000e+00 - val_recall: 0.0000e+00 - val_auc: 0.5000 - val_prc: 0.7281\n",
      "Epoch 15/50\n",
      "156/156 [==============================] - 1s 8ms/step - loss: 34.1900 - tp: 2331.0000 - fp: 929.0000 - tn: 509.0000 - fn: 1219.0000 - accuracy: 0.5694 - precision: 0.7150 - recall: 0.6566 - auc: 0.5043 - prc: 0.7102 - val_loss: 0.6610 - val_tp: 1816.0000 - val_fp: 678.0000 - val_tn: 0.0000e+00 - val_fn: 0.0000e+00 - val_accuracy: 0.7281 - val_precision: 0.7281 - val_recall: 1.0000 - val_auc: 0.5000 - val_prc: 0.7281\n",
      "Epoch 16/50\n",
      "156/156 [==============================] - 1s 8ms/step - loss: 34.1933 - tp: 3075.0000 - fp: 1241.0000 - tn: 197.0000 - fn: 475.0000 - accuracy: 0.6560 - precision: 0.7125 - recall: 0.8662 - auc: 0.5019 - prc: 0.7099 - val_loss: 0.6870 - val_tp: 1816.0000 - val_fp: 678.0000 - val_tn: 0.0000e+00 - val_fn: 0.0000e+00 - val_accuracy: 0.7281 - val_precision: 0.7281 - val_recall: 1.0000 - val_auc: 0.5000 - val_prc: 0.7281\n",
      "Epoch 17/50\n",
      "156/156 [==============================] - 1s 8ms/step - loss: 34.1993 - tp: 2820.0000 - fp: 1144.0000 - tn: 294.0000 - fn: 730.0000 - accuracy: 0.6243 - precision: 0.7114 - recall: 0.7944 - auc: 0.4954 - prc: 0.7072 - val_loss: 0.6699 - val_tp: 1816.0000 - val_fp: 678.0000 - val_tn: 0.0000e+00 - val_fn: 0.0000e+00 - val_accuracy: 0.7281 - val_precision: 0.7281 - val_recall: 1.0000 - val_auc: 0.5000 - val_prc: 0.7281\n",
      "Epoch 18/50\n",
      "156/156 [==============================] - 1s 8ms/step - loss: 34.2185 - tp: 3455.0000 - fp: 1405.0000 - tn: 33.0000 - fn: 95.0000 - accuracy: 0.6993 - precision: 0.7109 - recall: 0.9732 - auc: 0.4797 - prc: 0.6985 - val_loss: 0.6770 - val_tp: 1816.0000 - val_fp: 678.0000 - val_tn: 0.0000e+00 - val_fn: 0.0000e+00 - val_accuracy: 0.7281 - val_precision: 0.7281 - val_recall: 1.0000 - val_auc: 0.5000 - val_prc: 0.7281\n",
      "Epoch 19/50\n",
      "156/156 [==============================] - 1s 8ms/step - loss: 34.1846 - tp: 2932.0000 - fp: 1164.0000 - tn: 274.0000 - fn: 618.0000 - accuracy: 0.6427 - precision: 0.7158 - recall: 0.8259 - auc: 0.5035 - prc: 0.7141 - val_loss: 0.6927 - val_tp: 1816.0000 - val_fp: 678.0000 - val_tn: 0.0000e+00 - val_fn: 0.0000e+00 - val_accuracy: 0.7281 - val_precision: 0.7281 - val_recall: 1.0000 - val_auc: 0.5000 - val_prc: 0.7281\n",
      "Epoch 20/50\n",
      "156/156 [==============================] - 1s 8ms/step - loss: 34.2111 - tp: 2993.0000 - fp: 1227.0000 - tn: 211.0000 - fn: 557.0000 - accuracy: 0.6423 - precision: 0.7092 - recall: 0.8431 - auc: 0.4861 - prc: 0.7025 - val_loss: 0.6811 - val_tp: 1816.0000 - val_fp: 678.0000 - val_tn: 0.0000e+00 - val_fn: 0.0000e+00 - val_accuracy: 0.7281 - val_precision: 0.7281 - val_recall: 1.0000 - val_auc: 0.5000 - val_prc: 0.7281\n",
      "Epoch 21/50\n",
      "156/156 [==============================] - 1s 8ms/step - loss: 34.2051 - tp: 3120.0000 - fp: 1260.0000 - tn: 178.0000 - fn: 430.0000 - accuracy: 0.6612 - precision: 0.7123 - recall: 0.8789 - auc: 0.4873 - prc: 0.6987 - val_loss: 0.6644 - val_tp: 1816.0000 - val_fp: 678.0000 - val_tn: 0.0000e+00 - val_fn: 0.0000e+00 - val_accuracy: 0.7281 - val_precision: 0.7281 - val_recall: 1.0000 - val_auc: 0.5000 - val_prc: 0.7281\n",
      "Epoch 22/50\n",
      "156/156 [==============================] - 1s 8ms/step - loss: 34.2041 - tp: 3093.0000 - fp: 1255.0000 - tn: 183.0000 - fn: 457.0000 - accuracy: 0.6568 - precision: 0.7114 - recall: 0.8713 - auc: 0.4919 - prc: 0.7047 - val_loss: 0.6778 - val_tp: 1816.0000 - val_fp: 678.0000 - val_tn: 0.0000e+00 - val_fn: 0.0000e+00 - val_accuracy: 0.7281 - val_precision: 0.7281 - val_recall: 1.0000 - val_auc: 0.5000 - val_prc: 0.7281\n",
      "Epoch 23/50\n",
      "156/156 [==============================] - 1s 7ms/step - loss: 34.2057 - tp: 3226.0000 - fp: 1314.0000 - tn: 124.0000 - fn: 324.0000 - accuracy: 0.6716 - precision: 0.7106 - recall: 0.9087 - auc: 0.4853 - prc: 0.6974 - val_loss: 0.6871 - val_tp: 1816.0000 - val_fp: 678.0000 - val_tn: 0.0000e+00 - val_fn: 0.0000e+00 - val_accuracy: 0.7281 - val_precision: 0.7281 - val_recall: 1.0000 - val_auc: 0.5000 - val_prc: 0.7281\n",
      "Epoch 24/50\n",
      "156/156 [==============================] - 1s 8ms/step - loss: 34.2078 - tp: 3311.0000 - fp: 1357.0000 - tn: 81.0000 - fn: 239.0000 - accuracy: 0.6800 - precision: 0.7093 - recall: 0.9327 - auc: 0.4865 - prc: 0.7016 - val_loss: 0.6862 - val_tp: 1816.0000 - val_fp: 678.0000 - val_tn: 0.0000e+00 - val_fn: 0.0000e+00 - val_accuracy: 0.7281 - val_precision: 0.7281 - val_recall: 1.0000 - val_auc: 0.5000 - val_prc: 0.7281\n",
      "Epoch 25/50\n",
      "156/156 [==============================] - 1s 8ms/step - loss: 34.2077 - tp: 3099.0000 - fp: 1281.0000 - tn: 157.0000 - fn: 451.0000 - accuracy: 0.6528 - precision: 0.7075 - recall: 0.8730 - auc: 0.4842 - prc: 0.7044 - val_loss: 0.6800 - val_tp: 1816.0000 - val_fp: 678.0000 - val_tn: 0.0000e+00 - val_fn: 0.0000e+00 - val_accuracy: 0.7281 - val_precision: 0.7281 - val_recall: 1.0000 - val_auc: 0.5000 - val_prc: 0.7281\n",
      "Epoch 26/50\n",
      "156/156 [==============================] - 1s 8ms/step - loss: 34.1987 - tp: 3071.0000 - fp: 1245.0000 - tn: 193.0000 - fn: 479.0000 - accuracy: 0.6544 - precision: 0.7115 - recall: 0.8651 - auc: 0.4912 - prc: 0.7024 - val_loss: 0.6668 - val_tp: 1816.0000 - val_fp: 678.0000 - val_tn: 0.0000e+00 - val_fn: 0.0000e+00 - val_accuracy: 0.7281 - val_precision: 0.7281 - val_recall: 1.0000 - val_auc: 0.5000 - val_prc: 0.7281\n",
      "Epoch 27/50\n",
      "156/156 [==============================] - 1s 8ms/step - loss: 34.1991 - tp: 3390.0000 - fp: 1374.0000 - tn: 64.0000 - fn: 160.0000 - accuracy: 0.6925 - precision: 0.7116 - recall: 0.9549 - auc: 0.4912 - prc: 0.7066 - val_loss: 0.6888 - val_tp: 1816.0000 - val_fp: 678.0000 - val_tn: 0.0000e+00 - val_fn: 0.0000e+00 - val_accuracy: 0.7281 - val_precision: 0.7281 - val_recall: 1.0000 - val_auc: 0.5000 - val_prc: 0.7281\n",
      "Epoch 28/50\n",
      "156/156 [==============================] - 1s 8ms/step - loss: 34.1961 - tp: 3056.0000 - fp: 1228.0000 - tn: 210.0000 - fn: 494.0000 - accuracy: 0.6548 - precision: 0.7134 - recall: 0.8608 - auc: 0.4924 - prc: 0.7075 - val_loss: 0.6797 - val_tp: 1816.0000 - val_fp: 678.0000 - val_tn: 0.0000e+00 - val_fn: 0.0000e+00 - val_accuracy: 0.7281 - val_precision: 0.7281 - val_recall: 1.0000 - val_auc: 0.5000 - val_prc: 0.7281\n",
      "Epoch 29/50\n",
      "156/156 [==============================] - 1s 8ms/step - loss: 34.1998 - tp: 3114.0000 - fp: 1266.0000 - tn: 172.0000 - fn: 436.0000 - accuracy: 0.6588 - precision: 0.7110 - recall: 0.8772 - auc: 0.4923 - prc: 0.7057 - val_loss: 0.6767 - val_tp: 1816.0000 - val_fp: 678.0000 - val_tn: 0.0000e+00 - val_fn: 0.0000e+00 - val_accuracy: 0.7281 - val_precision: 0.7281 - val_recall: 1.0000 - val_auc: 0.5000 - val_prc: 0.7281\n",
      "Epoch 30/50\n",
      "156/156 [==============================] - 1s 9ms/step - loss: 34.1908 - tp: 3294.0000 - fp: 1346.0000 - tn: 92.0000 - fn: 256.0000 - accuracy: 0.6788 - precision: 0.7099 - recall: 0.9279 - auc: 0.4980 - prc: 0.7103 - val_loss: 0.6939 - val_tp: 0.0000e+00 - val_fp: 0.0000e+00 - val_tn: 678.0000 - val_fn: 1816.0000 - val_accuracy: 0.2719 - val_precision: 0.0000e+00 - val_recall: 0.0000e+00 - val_auc: 0.5000 - val_prc: 0.7281\n",
      "Epoch 31/50\n",
      "156/156 [==============================] - 1s 8ms/step - loss: 34.1953 - tp: 3128.0000 - fp: 1284.0000 - tn: 154.0000 - fn: 422.0000 - accuracy: 0.6580 - precision: 0.7090 - recall: 0.8811 - auc: 0.4976 - prc: 0.7082 - val_loss: 0.6969 - val_tp: 0.0000e+00 - val_fp: 0.0000e+00 - val_tn: 678.0000 - val_fn: 1816.0000 - val_accuracy: 0.2719 - val_precision: 0.0000e+00 - val_recall: 0.0000e+00 - val_auc: 0.5000 - val_prc: 0.7281\n",
      "Epoch 32/50\n",
      "156/156 [==============================] - 2s 10ms/step - loss: 34.1907 - tp: 2742.0000 - fp: 1126.0000 - tn: 312.0000 - fn: 808.0000 - accuracy: 0.6123 - precision: 0.7089 - recall: 0.7724 - auc: 0.4944 - prc: 0.7118 - val_loss: 0.6628 - val_tp: 1816.0000 - val_fp: 678.0000 - val_tn: 0.0000e+00 - val_fn: 0.0000e+00 - val_accuracy: 0.7281 - val_precision: 0.7281 - val_recall: 1.0000 - val_auc: 0.5000 - val_prc: 0.7281\n",
      "Epoch 33/50\n",
      "156/156 [==============================] - 1s 9ms/step - loss: 34.1822 - tp: 2889.0000 - fp: 1171.0000 - tn: 267.0000 - fn: 661.0000 - accuracy: 0.6327 - precision: 0.7116 - recall: 0.8138 - auc: 0.5029 - prc: 0.7149 - val_loss: 0.6875 - val_tp: 1816.0000 - val_fp: 678.0000 - val_tn: 0.0000e+00 - val_fn: 0.0000e+00 - val_accuracy: 0.7281 - val_precision: 0.7281 - val_recall: 1.0000 - val_auc: 0.5000 - val_prc: 0.7281\n",
      "Epoch 34/50\n",
      "156/156 [==============================] - 1s 9ms/step - loss: 34.2007 - tp: 3501.0000 - fp: 1423.0000 - tn: 15.0000 - fn: 49.0000 - accuracy: 0.7049 - precision: 0.7110 - recall: 0.9862 - auc: 0.4851 - prc: 0.7021 - val_loss: 0.6821 - val_tp: 1816.0000 - val_fp: 678.0000 - val_tn: 0.0000e+00 - val_fn: 0.0000e+00 - val_accuracy: 0.7281 - val_precision: 0.7281 - val_recall: 1.0000 - val_auc: 0.5000 - val_prc: 0.7281\n",
      "Epoch 35/50\n",
      "156/156 [==============================] - 1s 9ms/step - loss: 34.1972 - tp: 3315.0000 - fp: 1353.0000 - tn: 85.0000 - fn: 235.0000 - accuracy: 0.6816 - precision: 0.7102 - recall: 0.9338 - auc: 0.4927 - prc: 0.7039 - val_loss: 0.6870 - val_tp: 1816.0000 - val_fp: 678.0000 - val_tn: 0.0000e+00 - val_fn: 0.0000e+00 - val_accuracy: 0.7281 - val_precision: 0.7281 - val_recall: 1.0000 - val_auc: 0.5000 - val_prc: 0.7281\n",
      "Epoch 36/50\n",
      "156/156 [==============================] - 1s 7ms/step - loss: 34.1911 - tp: 3052.0000 - fp: 1232.0000 - tn: 206.0000 - fn: 498.0000 - accuracy: 0.6532 - precision: 0.7124 - recall: 0.8597 - auc: 0.4903 - prc: 0.7055 - val_loss: 0.6649 - val_tp: 1816.0000 - val_fp: 678.0000 - val_tn: 0.0000e+00 - val_fn: 0.0000e+00 - val_accuracy: 0.7281 - val_precision: 0.7281 - val_recall: 1.0000 - val_auc: 0.5000 - val_prc: 0.7281\n",
      "Epoch 37/50\n",
      "156/156 [==============================] - 1s 8ms/step - loss: 34.1913 - tp: 2796.0000 - fp: 1136.0000 - tn: 302.0000 - fn: 754.0000 - accuracy: 0.6211 - precision: 0.7111 - recall: 0.7876 - auc: 0.4975 - prc: 0.7084 - val_loss: 0.6613 - val_tp: 1816.0000 - val_fp: 678.0000 - val_tn: 0.0000e+00 - val_fn: 0.0000e+00 - val_accuracy: 0.7281 - val_precision: 0.7281 - val_recall: 1.0000 - val_auc: 0.5000 - val_prc: 0.7281\n",
      "Epoch 38/50\n",
      "156/156 [==============================] - 1s 8ms/step - loss: 34.1949 - tp: 3413.0000 - fp: 1383.0000 - tn: 55.0000 - fn: 137.0000 - accuracy: 0.6953 - precision: 0.7116 - recall: 0.9614 - auc: 0.4955 - prc: 0.7107 - val_loss: 0.6824 - val_tp: 1816.0000 - val_fp: 678.0000 - val_tn: 0.0000e+00 - val_fn: 0.0000e+00 - val_accuracy: 0.7281 - val_precision: 0.7281 - val_recall: 1.0000 - val_auc: 0.5000 - val_prc: 0.7281\n",
      "Epoch 39/50\n",
      "156/156 [==============================] - 1s 8ms/step - loss: 34.1846 - tp: 2991.0000 - fp: 1197.0000 - tn: 241.0000 - fn: 559.0000 - accuracy: 0.6480 - precision: 0.7142 - recall: 0.8425 - auc: 0.5027 - prc: 0.7103 - val_loss: 0.6881 - val_tp: 1816.0000 - val_fp: 678.0000 - val_tn: 0.0000e+00 - val_fn: 0.0000e+00 - val_accuracy: 0.7281 - val_precision: 0.7281 - val_recall: 1.0000 - val_auc: 0.5000 - val_prc: 0.7281\n",
      "Epoch 40/50\n",
      "156/156 [==============================] - 1s 8ms/step - loss: 34.1900 - tp: 2784.0000 - fp: 1116.0000 - tn: 322.0000 - fn: 766.0000 - accuracy: 0.6227 - precision: 0.7138 - recall: 0.7842 - auc: 0.4987 - prc: 0.7104 - val_loss: 0.6651 - val_tp: 1816.0000 - val_fp: 678.0000 - val_tn: 0.0000e+00 - val_fn: 0.0000e+00 - val_accuracy: 0.7281 - val_precision: 0.7281 - val_recall: 1.0000 - val_auc: 0.5000 - val_prc: 0.7281\n",
      "Epoch 41/50\n",
      "156/156 [==============================] - 1s 8ms/step - loss: 34.2034 - tp: 3502.0000 - fp: 1422.0000 - tn: 16.0000 - fn: 48.0000 - accuracy: 0.7053 - precision: 0.7112 - recall: 0.9865 - auc: 0.4807 - prc: 0.6977 - val_loss: 0.6877 - val_tp: 1816.0000 - val_fp: 678.0000 - val_tn: 0.0000e+00 - val_fn: 0.0000e+00 - val_accuracy: 0.7281 - val_precision: 0.7281 - val_recall: 1.0000 - val_auc: 0.5000 - val_prc: 0.7281\n",
      "Epoch 42/50\n",
      "156/156 [==============================] - 1s 8ms/step - loss: 34.1912 - tp: 2975.0000 - fp: 1213.0000 - tn: 225.0000 - fn: 575.0000 - accuracy: 0.6415 - precision: 0.7104 - recall: 0.8380 - auc: 0.4956 - prc: 0.7057 - val_loss: 0.6738 - val_tp: 1816.0000 - val_fp: 678.0000 - val_tn: 0.0000e+00 - val_fn: 0.0000e+00 - val_accuracy: 0.7281 - val_precision: 0.7281 - val_recall: 1.0000 - val_auc: 0.5000 - val_prc: 0.7281\n",
      "Epoch 43/50\n",
      "156/156 [==============================] - 1s 8ms/step - loss: 34.1867 - tp: 3004.0000 - fp: 1216.0000 - tn: 222.0000 - fn: 546.0000 - accuracy: 0.6468 - precision: 0.7118 - recall: 0.8462 - auc: 0.5005 - prc: 0.7108 - val_loss: 0.6792 - val_tp: 1816.0000 - val_fp: 678.0000 - val_tn: 0.0000e+00 - val_fn: 0.0000e+00 - val_accuracy: 0.7281 - val_precision: 0.7281 - val_recall: 1.0000 - val_auc: 0.5000 - val_prc: 0.7281\n",
      "Epoch 44/50\n",
      "156/156 [==============================] - 1s 9ms/step - loss: 34.1914 - tp: 3095.0000 - fp: 1253.0000 - tn: 185.0000 - fn: 455.0000 - accuracy: 0.6576 - precision: 0.7118 - recall: 0.8718 - auc: 0.4949 - prc: 0.7064 - val_loss: 0.6837 - val_tp: 1816.0000 - val_fp: 678.0000 - val_tn: 0.0000e+00 - val_fn: 0.0000e+00 - val_accuracy: 0.7281 - val_precision: 0.7281 - val_recall: 1.0000 - val_auc: 0.5000 - val_prc: 0.7281\n",
      "Epoch 45/50\n",
      "156/156 [==============================] - 1s 8ms/step - loss: 34.1569 - tp: 2348.0000 - fp: 912.0000 - tn: 526.0000 - fn: 1202.0000 - accuracy: 0.5762 - precision: 0.7202 - recall: 0.6614 - auc: 0.5129 - prc: 0.7163 - val_loss: 0.6672 - val_tp: 1816.0000 - val_fp: 678.0000 - val_tn: 0.0000e+00 - val_fn: 0.0000e+00 - val_accuracy: 0.7281 - val_precision: 0.7281 - val_recall: 1.0000 - val_auc: 0.5000 - val_prc: 0.7281\n",
      "Epoch 46/50\n",
      "156/156 [==============================] - 1s 8ms/step - loss: 34.1966 - tp: 3502.0000 - fp: 1422.0000 - tn: 16.0000 - fn: 48.0000 - accuracy: 0.7053 - precision: 0.7112 - recall: 0.9865 - auc: 0.4800 - prc: 0.7031 - val_loss: 0.6832 - val_tp: 1816.0000 - val_fp: 678.0000 - val_tn: 0.0000e+00 - val_fn: 0.0000e+00 - val_accuracy: 0.7281 - val_precision: 0.7281 - val_recall: 1.0000 - val_auc: 0.5000 - val_prc: 0.7281\n",
      "Epoch 47/50\n",
      "156/156 [==============================] - 1s 8ms/step - loss: 34.1983 - tp: 3497.0000 - fp: 1427.0000 - tn: 11.0000 - fn: 53.0000 - accuracy: 0.7033 - precision: 0.7102 - recall: 0.9851 - auc: 0.4792 - prc: 0.6962 - val_loss: 0.6818 - val_tp: 1816.0000 - val_fp: 678.0000 - val_tn: 0.0000e+00 - val_fn: 0.0000e+00 - val_accuracy: 0.7281 - val_precision: 0.7281 - val_recall: 1.0000 - val_auc: 0.5000 - val_prc: 0.7281\n",
      "Epoch 48/50\n",
      "156/156 [==============================] - 1s 8ms/step - loss: 34.1937 - tp: 3461.0000 - fp: 1403.0000 - tn: 35.0000 - fn: 89.0000 - accuracy: 0.7009 - precision: 0.7116 - recall: 0.9749 - auc: 0.4897 - prc: 0.7022 - val_loss: 0.6952 - val_tp: 0.0000e+00 - val_fp: 0.0000e+00 - val_tn: 678.0000 - val_fn: 1816.0000 - val_accuracy: 0.2719 - val_precision: 0.0000e+00 - val_recall: 0.0000e+00 - val_auc: 0.5000 - val_prc: 0.7281\n",
      "Epoch 49/50\n",
      "156/156 [==============================] - 1s 8ms/step - loss: 34.2006 - tp: 3477.0000 - fp: 1415.0000 - tn: 23.0000 - fn: 73.0000 - accuracy: 0.7017 - precision: 0.7108 - recall: 0.9794 - auc: 0.4804 - prc: 0.7008 - val_loss: 0.6854 - val_tp: 1816.0000 - val_fp: 678.0000 - val_tn: 0.0000e+00 - val_fn: 0.0000e+00 - val_accuracy: 0.7281 - val_precision: 0.7281 - val_recall: 1.0000 - val_auc: 0.5000 - val_prc: 0.7281\n",
      "Epoch 50/50\n",
      "156/156 [==============================] - 1s 8ms/step - loss: 34.1938 - tp: 3201.0000 - fp: 1307.0000 - tn: 131.0000 - fn: 349.0000 - accuracy: 0.6680 - precision: 0.7101 - recall: 0.9017 - auc: 0.4867 - prc: 0.7021 - val_loss: 0.6838 - val_tp: 1816.0000 - val_fp: 678.0000 - val_tn: 0.0000e+00 - val_fn: 0.0000e+00 - val_accuracy: 0.7281 - val_precision: 0.7281 - val_recall: 1.0000 - val_auc: 0.5000 - val_prc: 0.7281\n"
     ]
    },
    {
     "data": {
      "text/plain": [
       "<keras.callbacks.History at 0x7f9202199710>"
      ]
     },
     "execution_count": 12,
     "metadata": {},
     "output_type": "execute_result"
    }
   ],
   "source": [
    "from keras.models import Sequential\n",
    "from keras.layers import Dense, GRU\n",
    "from tensorflow.keras import metrics\n",
    "def createSequentialGRU():\n",
    "\n",
    "    METRICS = [\n",
    "      metrics.TruePositives(name='tp'),\n",
    "      metrics.FalsePositives(name='fp'),\n",
    "      metrics.TrueNegatives(name='tn'),\n",
    "      metrics.FalseNegatives(name='fn'), \n",
    "      metrics.BinaryAccuracy(name='accuracy'),\n",
    "      metrics.Precision(name='precision'),\n",
    "      metrics.Recall(name='recall'),\n",
    "      metrics.AUC(name='auc'),\n",
    "      metrics.AUC(name='prc', curve='PR'), # precision-recall curve\n",
    "    ]\n",
    "\n",
    "    model = Sequential()\n",
    "    model.add(GRU(32, input_shape=(10, 4)))\n",
    "    model.add(Dense(1, activation='sigmoid'))\n",
    "    model.compile(optimizer='rmsprop', loss='binary_crossentropy', metrics=METRICS)\n",
    "    return model\n",
    "\n",
    "model_v1 = createSequentialGRU()\n",
    "weight_for_0 = (1 / 30) * (len(y_train) / 2.0) #weights failed trades higher\n",
    "weight_for_1 = (1 / 70) * (len(y_train) / 2.0)\n",
    "model_v1.fit(x_train, y_train, epochs=50, validation_data=(x_test,y_test), verbose='auto', class_weight={0: weight_for_0, 1: weight_for_1})\n",
    "# loss, acc = model_v1.evaluate(x_test, y_test, verbose=2)\n",
    "# print(\"Untrained model, accuracy: {:5.2f}%\".format(100 * acc))\n",
    "\n"
   ]
  },
  {
   "cell_type": "code",
   "execution_count": 15,
   "id": "981f227f-fed5-40a8-91a3-1e0a8f535e80",
   "metadata": {
    "tags": []
   },
   "outputs": [
    {
     "name": "stdout",
     "output_type": "stream",
     "text": [
      "78/78 - 0s - loss: 0.6849 - tp: 1754.0000 - fp: 740.0000 - tn: 0.0000e+00 - fn: 0.0000e+00 - accuracy: 0.7033 - precision: 0.7033 - recall: 1.0000 - auc: 0.5000 - prc: 0.7033 - 336ms/epoch - 4ms/step\n"
     ]
    },
    {
     "data": {
      "text/plain": [
       "[0.6848717331886292,\n",
       " 1754.0,\n",
       " 740.0,\n",
       " 0.0,\n",
       " 0.0,\n",
       " 0.7032878994941711,\n",
       " 0.7032878994941711,\n",
       " 1.0,\n",
       " 0.5,\n",
       " 0.7032878994941711]"
      ]
     },
     "execution_count": 15,
     "metadata": {},
     "output_type": "execute_result"
    }
   ],
   "source": [
    "model_v1.evaluate(x_val, y_val, verbose=2)\n",
    "# print(\"Trained model, accuracy: {:5.2f}%\".format(100 * acc))"
   ]
  },
  {
   "cell_type": "code",
   "execution_count": null,
   "id": "5b7130cb-086a-4c1e-a582-fceb8fea9e8b",
   "metadata": {},
   "outputs": [],
   "source": []
  }
 ],
 "metadata": {
  "instance_type": "ml.t3.medium",
  "kernelspec": {
   "display_name": "Python 3 (Data Science)",
   "language": "python",
   "name": "python3__SAGEMAKER_INTERNAL__arn:aws:sagemaker:us-east-1:081325390199:image/datascience-1.0"
  },
  "language_info": {
   "codemirror_mode": {
    "name": "ipython",
    "version": 3
   },
   "file_extension": ".py",
   "mimetype": "text/x-python",
   "name": "python",
   "nbconvert_exporter": "python",
   "pygments_lexer": "ipython3",
   "version": "3.7.10"
  }
 },
 "nbformat": 4,
 "nbformat_minor": 5
}
