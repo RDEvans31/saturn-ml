{
 "cells": [
  {
   "cell_type": "code",
   "execution_count": 13,
   "id": "7dedd644-2470-4a5a-903d-fa2a3877e274",
   "metadata": {
    "tags": []
   },
   "outputs": [
    {
     "data": {
      "text/plain": [
       "array([[0.        , 0.        , 0.        , 0.        ],\n",
       "       [0.14718034, 0.14718034, 0.28965674, 0.26821033],\n",
       "       [0.13194328, 0.13194328, 0.39948515, 0.34970715],\n",
       "       [0.35830418, 0.35830418, 0.37088133, 0.44029751],\n",
       "       [0.58817131, 0.58817131, 0.39234649, 0.56660339],\n",
       "       [1.        , 1.        , 0.52491086, 0.85104718],\n",
       "       [0.83298365, 0.83298365, 0.72885723, 0.93413021],\n",
       "       [0.54828567, 0.54828567, 0.9859725 , 0.99719855],\n",
       "       [0.50038712, 0.50038712, 1.        , 1.        ],\n",
       "       [0.35064571, 0.35064571, 0.99627474, 0.93153794]])"
      ]
     },
     "execution_count": 13,
     "metadata": {},
     "output_type": "execute_result"
    }
   ],
   "source": [
    "import pickle\n",
    "with open('train_test_val_split.pkl', 'rb') as f:\n",
    "    # The protocol version used is detected automatically, so we do not\n",
    "    # have to specify it.\n",
    "    data = pickle.load(f)\n",
    "x_train, y_train = data[0]\n",
    "x_test, y_test = data[1]\n",
    "x_val, y_val = data[2]"
   ]
  },
  {
   "cell_type": "code",
   "execution_count": 14,
   "id": "3a32e3f5-566d-48ad-add0-2fc23f750f2d",
   "metadata": {},
   "outputs": [
    {
     "name": "stdout",
     "output_type": "stream",
     "text": [
      "Epoch 1/50\n",
      "156/156 [==============================] - 3s 9ms/step - loss: 0.6021 - accuracy: 0.7117 - val_loss: 0.5860 - val_accuracy: 0.7281\n",
      "Epoch 2/50\n",
      "156/156 [==============================] - 1s 6ms/step - loss: 0.6009 - accuracy: 0.7117 - val_loss: 0.5867 - val_accuracy: 0.7281\n",
      "Epoch 3/50\n",
      "156/156 [==============================] - 1s 6ms/step - loss: 0.6017 - accuracy: 0.7117 - val_loss: 0.5857 - val_accuracy: 0.7281\n",
      "Epoch 4/50\n",
      "156/156 [==============================] - 1s 7ms/step - loss: 0.6019 - accuracy: 0.7117 - val_loss: 0.5852 - val_accuracy: 0.7281\n",
      "Epoch 5/50\n",
      "156/156 [==============================] - 1s 7ms/step - loss: 0.6009 - accuracy: 0.7117 - val_loss: 0.5854 - val_accuracy: 0.7281\n",
      "Epoch 6/50\n",
      "156/156 [==============================] - 1s 6ms/step - loss: 0.6014 - accuracy: 0.7117 - val_loss: 0.5866 - val_accuracy: 0.7281\n",
      "Epoch 7/50\n",
      "156/156 [==============================] - 1s 6ms/step - loss: 0.6012 - accuracy: 0.7117 - val_loss: 0.5879 - val_accuracy: 0.7281\n",
      "Epoch 8/50\n",
      "156/156 [==============================] - 1s 6ms/step - loss: 0.6016 - accuracy: 0.7117 - val_loss: 0.5852 - val_accuracy: 0.7281\n",
      "Epoch 9/50\n",
      "156/156 [==============================] - 1s 6ms/step - loss: 0.6013 - accuracy: 0.7117 - val_loss: 0.5854 - val_accuracy: 0.7281\n",
      "Epoch 10/50\n",
      "156/156 [==============================] - 1s 6ms/step - loss: 0.6015 - accuracy: 0.7117 - val_loss: 0.5868 - val_accuracy: 0.7281\n",
      "Epoch 11/50\n",
      "156/156 [==============================] - 1s 6ms/step - loss: 0.6015 - accuracy: 0.7117 - val_loss: 0.5870 - val_accuracy: 0.7281\n",
      "Epoch 12/50\n",
      "156/156 [==============================] - 1s 6ms/step - loss: 0.6010 - accuracy: 0.7117 - val_loss: 0.5933 - val_accuracy: 0.7281\n",
      "Epoch 13/50\n",
      "156/156 [==============================] - 1s 6ms/step - loss: 0.6014 - accuracy: 0.7117 - val_loss: 0.5887 - val_accuracy: 0.7281\n",
      "Epoch 14/50\n",
      "156/156 [==============================] - 1s 6ms/step - loss: 0.6015 - accuracy: 0.7117 - val_loss: 0.5864 - val_accuracy: 0.7281\n",
      "Epoch 15/50\n",
      "156/156 [==============================] - 1s 7ms/step - loss: 0.6011 - accuracy: 0.7117 - val_loss: 0.5853 - val_accuracy: 0.7281\n",
      "Epoch 16/50\n",
      "156/156 [==============================] - 1s 6ms/step - loss: 0.6012 - accuracy: 0.7117 - val_loss: 0.5851 - val_accuracy: 0.7281\n",
      "Epoch 17/50\n",
      "156/156 [==============================] - 1s 7ms/step - loss: 0.6014 - accuracy: 0.7117 - val_loss: 0.5864 - val_accuracy: 0.7281\n",
      "Epoch 18/50\n",
      "156/156 [==============================] - 1s 6ms/step - loss: 0.6009 - accuracy: 0.7117 - val_loss: 0.5902 - val_accuracy: 0.7281\n",
      "Epoch 19/50\n",
      "156/156 [==============================] - 1s 6ms/step - loss: 0.6014 - accuracy: 0.7117 - val_loss: 0.5882 - val_accuracy: 0.7281\n",
      "Epoch 20/50\n",
      "156/156 [==============================] - 1s 6ms/step - loss: 0.6013 - accuracy: 0.7117 - val_loss: 0.5856 - val_accuracy: 0.7281\n",
      "Epoch 21/50\n",
      "156/156 [==============================] - 1s 6ms/step - loss: 0.6014 - accuracy: 0.7117 - val_loss: 0.5855 - val_accuracy: 0.7281\n",
      "Epoch 22/50\n",
      "156/156 [==============================] - 1s 6ms/step - loss: 0.6009 - accuracy: 0.7117 - val_loss: 0.5856 - val_accuracy: 0.7281\n",
      "Epoch 23/50\n",
      "156/156 [==============================] - 1s 7ms/step - loss: 0.6014 - accuracy: 0.7117 - val_loss: 0.5853 - val_accuracy: 0.7281\n",
      "Epoch 24/50\n",
      "156/156 [==============================] - 1s 6ms/step - loss: 0.6014 - accuracy: 0.7117 - val_loss: 0.5858 - val_accuracy: 0.7281\n",
      "Epoch 25/50\n",
      "156/156 [==============================] - 1s 6ms/step - loss: 0.6004 - accuracy: 0.7117 - val_loss: 0.5878 - val_accuracy: 0.7281\n",
      "Epoch 26/50\n",
      "156/156 [==============================] - 1s 6ms/step - loss: 0.6012 - accuracy: 0.7117 - val_loss: 0.5851 - val_accuracy: 0.7281\n",
      "Epoch 27/50\n",
      "156/156 [==============================] - 1s 6ms/step - loss: 0.6012 - accuracy: 0.7117 - val_loss: 0.5868 - val_accuracy: 0.7281\n",
      "Epoch 28/50\n",
      "156/156 [==============================] - 1s 6ms/step - loss: 0.6010 - accuracy: 0.7117 - val_loss: 0.5852 - val_accuracy: 0.7281\n",
      "Epoch 29/50\n",
      "156/156 [==============================] - 1s 6ms/step - loss: 0.6016 - accuracy: 0.7117 - val_loss: 0.5862 - val_accuracy: 0.7281\n",
      "Epoch 30/50\n",
      "156/156 [==============================] - 1s 6ms/step - loss: 0.6012 - accuracy: 0.7117 - val_loss: 0.5851 - val_accuracy: 0.7281\n",
      "Epoch 31/50\n",
      "156/156 [==============================] - 1s 6ms/step - loss: 0.6012 - accuracy: 0.7117 - val_loss: 0.5866 - val_accuracy: 0.7281\n",
      "Epoch 32/50\n",
      "156/156 [==============================] - 1s 6ms/step - loss: 0.6007 - accuracy: 0.7117 - val_loss: 0.5852 - val_accuracy: 0.7281\n",
      "Epoch 33/50\n",
      "156/156 [==============================] - 1s 6ms/step - loss: 0.6011 - accuracy: 0.7117 - val_loss: 0.5852 - val_accuracy: 0.7281\n",
      "Epoch 34/50\n",
      "156/156 [==============================] - 1s 6ms/step - loss: 0.6009 - accuracy: 0.7117 - val_loss: 0.5851 - val_accuracy: 0.7281\n",
      "Epoch 35/50\n",
      "156/156 [==============================] - 1s 6ms/step - loss: 0.6013 - accuracy: 0.7117 - val_loss: 0.5862 - val_accuracy: 0.7281\n",
      "Epoch 36/50\n",
      "156/156 [==============================] - 1s 6ms/step - loss: 0.6010 - accuracy: 0.7117 - val_loss: 0.5851 - val_accuracy: 0.7281\n",
      "Epoch 37/50\n",
      "156/156 [==============================] - 1s 6ms/step - loss: 0.6011 - accuracy: 0.7117 - val_loss: 0.5861 - val_accuracy: 0.7281\n",
      "Epoch 38/50\n",
      "156/156 [==============================] - 1s 6ms/step - loss: 0.6012 - accuracy: 0.7117 - val_loss: 0.5857 - val_accuracy: 0.7281\n",
      "Epoch 39/50\n",
      "156/156 [==============================] - 1s 6ms/step - loss: 0.6013 - accuracy: 0.7117 - val_loss: 0.5877 - val_accuracy: 0.7281\n",
      "Epoch 40/50\n",
      "156/156 [==============================] - 1s 6ms/step - loss: 0.6013 - accuracy: 0.7117 - val_loss: 0.5858 - val_accuracy: 0.7281\n",
      "Epoch 41/50\n",
      "156/156 [==============================] - 1s 6ms/step - loss: 0.6012 - accuracy: 0.7117 - val_loss: 0.5855 - val_accuracy: 0.7281\n",
      "Epoch 42/50\n",
      "156/156 [==============================] - 1s 6ms/step - loss: 0.6012 - accuracy: 0.7117 - val_loss: 0.5863 - val_accuracy: 0.7281\n",
      "Epoch 43/50\n",
      "156/156 [==============================] - 1s 6ms/step - loss: 0.6014 - accuracy: 0.7117 - val_loss: 0.5854 - val_accuracy: 0.7281\n",
      "Epoch 44/50\n",
      "156/156 [==============================] - 1s 6ms/step - loss: 0.6011 - accuracy: 0.7117 - val_loss: 0.5851 - val_accuracy: 0.7281\n",
      "Epoch 45/50\n",
      "156/156 [==============================] - 1s 6ms/step - loss: 0.6014 - accuracy: 0.7117 - val_loss: 0.5854 - val_accuracy: 0.7281\n",
      "Epoch 46/50\n",
      "156/156 [==============================] - 1s 6ms/step - loss: 0.6009 - accuracy: 0.7117 - val_loss: 0.5856 - val_accuracy: 0.7281\n",
      "Epoch 47/50\n",
      "156/156 [==============================] - 1s 6ms/step - loss: 0.6010 - accuracy: 0.7117 - val_loss: 0.5853 - val_accuracy: 0.7281\n",
      "Epoch 48/50\n",
      "156/156 [==============================] - 1s 6ms/step - loss: 0.6013 - accuracy: 0.7117 - val_loss: 0.5855 - val_accuracy: 0.7281\n",
      "Epoch 49/50\n",
      "156/156 [==============================] - 1s 6ms/step - loss: 0.6011 - accuracy: 0.7117 - val_loss: 0.5858 - val_accuracy: 0.7281\n",
      "Epoch 50/50\n",
      "156/156 [==============================] - 1s 6ms/step - loss: 0.6012 - accuracy: 0.7117 - val_loss: 0.5851 - val_accuracy: 0.7281\n"
     ]
    },
    {
     "data": {
      "text/plain": [
       "<keras.callbacks.History at 0x7fd56abd6090>"
      ]
     },
     "execution_count": 14,
     "metadata": {},
     "output_type": "execute_result"
    }
   ],
   "source": [
    "from keras.models import Sequential\n",
    "from keras.layers import Dense, GRU\n",
    "def createSequentialGRU():\n",
    "    model = Sequential()\n",
    "    model.add(GRU(32, input_shape=(10, 4)))\n",
    "    model.add(Dense(1, activation='sigmoid'))\n",
    "    model.compile(optimizer='rmsprop', loss='binary_crossentropy', metrics=['accuracy'])\n",
    "    return model\n",
    "\n",
    "model_v1 = createSequentialGRU()\n",
    "model_v1.fit(x_train, \n",
    "          y_train,\n",
    "          epochs=50, \n",
    "          validation_data=(x_test,y_test),\n",
    "          verbose='auto')\n",
    "# loss, acc = model_v1.evaluate(x_test, y_test, verbose=2)\n",
    "# print(\"Untrained model, accuracy: {:5.2f}%\".format(100 * acc))\n",
    "\n"
   ]
  },
  {
   "cell_type": "code",
   "execution_count": 16,
   "id": "981f227f-fed5-40a8-91a3-1e0a8f535e80",
   "metadata": {
    "tags": []
   },
   "outputs": [
    {
     "name": "stdout",
     "output_type": "stream",
     "text": [
      "78/78 - 0s - loss: 0.5851 - accuracy: 0.7281 - 159ms/epoch - 2ms/step\n",
      "Trained model, accuracy: 72.81%\n"
     ]
    }
   ],
   "source": [
    "loss, acc = model_v1.evaluate(x_test, y_test, verbose=2)\n",
    "print(\"Trained model, accuracy: {:5.2f}%\".format(100 * acc))"
   ]
  },
  {
   "cell_type": "code",
   "execution_count": null,
   "id": "5b7130cb-086a-4c1e-a582-fceb8fea9e8b",
   "metadata": {},
   "outputs": [],
   "source": []
  }
 ],
 "metadata": {
  "instance_type": "ml.t3.medium",
  "kernelspec": {
   "display_name": "Python 3 (Data Science)",
   "language": "python",
   "name": "python3__SAGEMAKER_INTERNAL__arn:aws:sagemaker:us-east-1:081325390199:image/datascience-1.0"
  },
  "language_info": {
   "codemirror_mode": {
    "name": "ipython",
    "version": 3
   },
   "file_extension": ".py",
   "mimetype": "text/x-python",
   "name": "python",
   "nbconvert_exporter": "python",
   "pygments_lexer": "ipython3",
   "version": "3.7.10"
  }
 },
 "nbformat": 4,
 "nbformat_minor": 5
}
